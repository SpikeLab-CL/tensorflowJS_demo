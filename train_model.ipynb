{
 "cells": [
  {
   "cell_type": "code",
   "execution_count": 1,
   "metadata": {},
   "outputs": [
    {
     "name": "stderr",
     "output_type": "stream",
     "text": [
      "Using TensorFlow backend.\n"
     ]
    }
   ],
   "source": [
    "import keras\n",
    "from keras.datasets import mnist\n",
    "from keras.models import Sequential\n",
    "from keras.layers import Dense, Dropout, Flatten\n",
    "from keras.layers import Conv2D, MaxPooling2D\n",
    "import matplotlib.pyplot as plt\n",
    "from random import randint"
   ]
  },
  {
   "cell_type": "code",
   "execution_count": 2,
   "metadata": {},
   "outputs": [],
   "source": [
    "num_classes = 10\n",
    "batch = 1024\n",
    "epochs = 20"
   ]
  },
  {
   "cell_type": "markdown",
   "metadata": {},
   "source": [
    "#### Cargamos los datos del MNIST DATASET"
   ]
  },
  {
   "cell_type": "code",
   "execution_count": 3,
   "metadata": {},
   "outputs": [],
   "source": [
    "(x_train, y_train), (x_test, y_test) = mnist.load_data()"
   ]
  },
  {
   "cell_type": "markdown",
   "metadata": {},
   "source": [
    "#### Plot de una imagen"
   ]
  },
  {
   "cell_type": "code",
   "execution_count": 4,
   "metadata": {},
   "outputs": [
    {
     "data": {
      "text/plain": [
       "<matplotlib.image.AxesImage at 0x125c1d898>"
      ]
     },
     "execution_count": 4,
     "metadata": {},
     "output_type": "execute_result"
    },
    {
     "data": {
      "image/png": "[encoded data removed]",
      "text/plain": [
       "<Figure size 432x288 with 1 Axes>"
      ]
     },
     "metadata": {},
     "output_type": "display_data"
    }
   ],
   "source": [
    "plt.imshow(x_train[randint(0,x_train.shape[0])])"
   ]
  },
  {
   "cell_type": "code",
   "execution_count": 5,
   "metadata": {},
   "outputs": [],
   "source": [
    "x_train = x_train.astype('float32')\n",
    "x_test = x_test.astype('float32')\n",
    "x_train /= 255\n",
    "x_test /= 255"
   ]
  },
  {
   "cell_type": "code",
   "execution_count": 6,
   "metadata": {},
   "outputs": [
    {
     "data": {
      "text/plain": [
       "(28, 28)"
      ]
     },
     "execution_count": 6,
     "metadata": {},
     "output_type": "execute_result"
    }
   ],
   "source": [
    "x_train[0].shape"
   ]
  },
  {
   "cell_type": "markdown",
   "metadata": {},
   "source": [
    "##### Hacemos one hot encoding del target"
   ]
  },
  {
   "cell_type": "code",
   "execution_count": 7,
   "metadata": {},
   "outputs": [],
   "source": [
    "y_train = keras.utils.to_categorical(y_train, num_classes)\n",
    "y_test = keras.utils.to_categorical(y_test, num_classes)"
   ]
  },
  {
   "cell_type": "code",
   "execution_count": 8,
   "metadata": {},
   "outputs": [],
   "source": [
    "x_train = x_train.reshape(x_train.shape[0], x_train.shape[1], x_train.shape[2],1)\n",
    "x_test = x_test.reshape(x_test.shape[0],x_test.shape[1], x_test.shape[2],1)"
   ]
  },
  {
   "cell_type": "code",
   "execution_count": 9,
   "metadata": {},
   "outputs": [
    {
     "data": {
      "text/plain": [
       "(28, 28, 1)"
      ]
     },
     "execution_count": 9,
     "metadata": {},
     "output_type": "execute_result"
    }
   ],
   "source": [
    "x_train[0].shape"
   ]
  },
  {
   "cell_type": "code",
   "execution_count": 10,
   "metadata": {},
   "outputs": [],
   "source": [
    "input_shape = (x_train.shape[1], x_train.shape[2],1)"
   ]
  },
  {
   "cell_type": "code",
   "execution_count": 11,
   "metadata": {},
   "outputs": [
    {
     "data": {
      "text/plain": [
       "(28, 28, 1)"
      ]
     },
     "execution_count": 11,
     "metadata": {},
     "output_type": "execute_result"
    }
   ],
   "source": [
    "input_shape"
   ]
  },
  {
   "cell_type": "markdown",
   "metadata": {},
   "source": [
    "#### Generamos nuestro modelo"
   ]
  },
  {
   "cell_type": "code",
   "execution_count": 20,
   "metadata": {},
   "outputs": [],
   "source": [
    "model = Sequential()\n",
    "model.add(Conv2D(32, kernel_size=(3, 3),activation='relu', input_shape=input_shape))\n",
    "model.add(MaxPooling2D(pool_size=(2, 2)))\n",
    "model.add(Dropout(0.25))\n",
    "model.add(Conv2D(64, (3, 3), activation='relu'))\n",
    "model.add(MaxPooling2D(pool_size=(2, 2)))\n",
    "model.add(Dropout(0.25))\n",
    "model.add(Flatten())\n",
    "model.add(Dense(128, activation='relu'))\n",
    "model.add(Dropout(0.2))\n",
    "model.add(Dense(128, activation='relu'))\n",
    "model.add(Dropout(0.2))\n",
    "model.add(Dense(num_classes, activation='softmax'))"
   ]
  },
  {
   "cell_type": "code",
   "execution_count": 21,
   "metadata": {},
   "outputs": [],
   "source": [
    "model.compile(loss=keras.losses.categorical_crossentropy,\n",
    "              optimizer=keras.optimizers.Adam(),\n",
    "              metrics=['accuracy'])"
   ]
  },
  {
   "cell_type": "code",
   "execution_count": 22,
   "metadata": {},
   "outputs": [],
   "source": [
    "from keras.utils import plot_model\n",
    "plot_model(model, to_file='model.png')"
   ]
  },
  {
   "cell_type": "code",
   "execution_count": 17,
   "metadata": {},
   "outputs": [
    {
     "name": "stdout",
     "output_type": "stream",
     "text": [
      "Train on 60000 samples, validate on 10000 samples\n",
      "Epoch 1/20\n",
      "60000/60000 [==============================] - 34s 564us/step - loss: 0.3198 - acc: 0.9020 - val_loss: 0.1469 - val_acc: 0.9588\n",
      "Epoch 2/20\n",
      "60000/60000 [==============================] - 34s 560us/step - loss: 0.2101 - acc: 0.9367 - val_loss: 0.1060 - val_acc: 0.9697\n",
      "Epoch 3/20\n",
      "60000/60000 [==============================] - 33s 554us/step - loss: 0.1685 - acc: 0.9493 - val_loss: 0.0795 - val_acc: 0.9752\n",
      "Epoch 4/20\n",
      "60000/60000 [==============================] - 36s 597us/step - loss: 0.1428 - acc: 0.9568 - val_loss: 0.0665 - val_acc: 0.9788\n",
      "Epoch 5/20\n",
      "60000/60000 [==============================] - 33s 555us/step - loss: 0.1207 - acc: 0.9636 - val_loss: 0.0654 - val_acc: 0.9789\n",
      "Epoch 6/20\n",
      "60000/60000 [==============================] - 35s 584us/step - loss: 0.1068 - acc: 0.9676 - val_loss: 0.0523 - val_acc: 0.9835\n",
      "Epoch 7/20\n",
      "60000/60000 [==============================] - 33s 557us/step - loss: 0.0984 - acc: 0.9707 - val_loss: 0.0475 - val_acc: 0.9849\n",
      "Epoch 8/20\n",
      "60000/60000 [==============================] - 34s 566us/step - loss: 0.0902 - acc: 0.9732 - val_loss: 0.0430 - val_acc: 0.9867\n",
      "Epoch 9/20\n",
      "60000/60000 [==============================] - 35s 587us/step - loss: 0.0823 - acc: 0.9748 - val_loss: 0.0405 - val_acc: 0.9880\n",
      "Epoch 10/20\n",
      "60000/60000 [==============================] - 34s 573us/step - loss: 0.0783 - acc: 0.9758 - val_loss: 0.0368 - val_acc: 0.9872\n",
      "Epoch 11/20\n",
      "60000/60000 [==============================] - 34s 571us/step - loss: 0.0738 - acc: 0.9775 - val_loss: 0.0350 - val_acc: 0.9879\n",
      "Epoch 12/20\n",
      "60000/60000 [==============================] - 35s 579us/step - loss: 0.0689 - acc: 0.9797 - val_loss: 0.0324 - val_acc: 0.9895\n",
      "Epoch 13/20\n",
      "60000/60000 [==============================] - 34s 570us/step - loss: 0.0641 - acc: 0.9811 - val_loss: 0.0299 - val_acc: 0.9907\n",
      "Epoch 14/20\n",
      "60000/60000 [==============================] - 35s 588us/step - loss: 0.0643 - acc: 0.9798 - val_loss: 0.0288 - val_acc: 0.9907\n",
      "Epoch 15/20\n",
      "60000/60000 [==============================] - 34s 573us/step - loss: 0.0608 - acc: 0.9814 - val_loss: 0.0311 - val_acc: 0.9902\n",
      "Epoch 16/20\n",
      "60000/60000 [==============================] - 33s 552us/step - loss: 0.0587 - acc: 0.9817 - val_loss: 0.0290 - val_acc: 0.9905\n",
      "Epoch 17/20\n",
      "60000/60000 [==============================] - 33s 547us/step - loss: 0.0564 - acc: 0.9829 - val_loss: 0.0274 - val_acc: 0.9907\n",
      "Epoch 18/20\n",
      "60000/60000 [==============================] - 35s 577us/step - loss: 0.0533 - acc: 0.9835 - val_loss: 0.0272 - val_acc: 0.9912\n",
      "Epoch 19/20\n",
      "60000/60000 [==============================] - 34s 573us/step - loss: 0.0516 - acc: 0.9841 - val_loss: 0.0267 - val_acc: 0.9913\n",
      "Epoch 20/20\n",
      "60000/60000 [==============================] - 33s 553us/step - loss: 0.0517 - acc: 0.9843 - val_loss: 0.0272 - val_acc: 0.9907\n"
     ]
    },
    {
     "data": {
      "text/plain": [
       "<keras.callbacks.History at 0x10b5317f0>"
      ]
     },
     "execution_count": 17,
     "metadata": {},
     "output_type": "execute_result"
    }
   ],
   "source": [
    "model.fit(x_train, y_train,\n",
    "          batch_size=batch,\n",
    "          epochs=epochs,\n",
    "          verbose=1,\n",
    "          validation_data=(x_test, y_test))"
   ]
  },
  {
   "cell_type": "code",
   "execution_count": 18,
   "metadata": {},
   "outputs": [],
   "source": [
    "model.save(\"model.h5\")"
   ]
  },
  {
   "cell_type": "markdown",
   "metadata": {},
   "source": [
    "#### Guardamos el model en tensorflowJS format"
   ]
  },
  {
   "cell_type": "code",
   "execution_count": 19,
   "metadata": {},
   "outputs": [],
   "source": [
    "import tensorflowjs as tfjs"
   ]
  },
  {
   "cell_type": "code",
   "execution_count": 20,
   "metadata": {},
   "outputs": [],
   "source": [
    "tfjs.converters.save_keras_model(model, \".\")"
   ]
  }
 ],
 "metadata": {
  "kernelspec": {
   "display_name": "Python [conda env:matias]",
   "language": "python",
   "name": "conda-env-matias-py"
  },
  "language_info": {
   "codemirror_mode": {
    "name": "ipython",
    "version": 3
   },
   "file_extension": ".py",
   "mimetype": "text/x-python",
   "name": "python",
   "nbconvert_exporter": "python",
   "pygments_lexer": "ipython3",
   "version": "3.6.5"
  }
 },
 "nbformat": 4,
 "nbformat_minor": 2
}
